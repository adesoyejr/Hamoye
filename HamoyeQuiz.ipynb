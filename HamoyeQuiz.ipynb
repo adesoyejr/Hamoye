{
  "nbformat": 4,
  "nbformat_minor": 0,
  "metadata": {
    "colab": {
      "name": "HamoyeQuiz.ipynb",
      "provenance": [],
      "authorship_tag": "ABX9TyPyBCdlIyEpSCivavUvu+jb",
      "include_colab_link": true
    },
    "kernelspec": {
      "name": "python3",
      "display_name": "Python 3"
    }
  },
  "cells": [
    {
      "cell_type": "markdown",
      "metadata": {
        "id": "view-in-github",
        "colab_type": "text"
      },
      "source": [
        "<a href=\"https://colab.research.google.com/github/adesoyejr/Hamoye/blob/master/HamoyeQuiz.ipynb\" target=\"_parent\"><img src=\"https://colab.research.google.com/assets/colab-badge.svg\" alt=\"Open In Colab\"/></a>"
      ]
    },
    {
      "cell_type": "markdown",
      "metadata": {
        "id": "WuML5BUt4-ML",
        "colab_type": "text"
      },
      "source": [
        "# Question 1"
      ]
    },
    {
      "cell_type": "code",
      "metadata": {
        "id": "RpVzVzgC4wDp",
        "colab_type": "code",
        "colab": {
          "base_uri": "https://localhost:8080/",
          "height": 34
        },
        "outputId": "e82051ef-4892-4a59-adfa-bf481afc6d83"
      },
      "source": [
        "# given two lists A and B as\n",
        "A = [1, 2, 3, 4, 5, 6]\n",
        "B = [13, 21, 34]\n",
        "\n",
        "# the best way to create a new list A_B which concatenates both lists is\n",
        "A_B = A+B\n",
        "print(A_B)\n"
      ],
      "execution_count": 62,
      "outputs": [
        {
          "output_type": "stream",
          "text": [
            "[1, 2, 3, 4, 5, 6, 13, 21, 34]\n"
          ],
          "name": "stdout"
        }
      ]
    },
    {
      "cell_type": "markdown",
      "metadata": {
        "id": "PizA5eaW6WPr",
        "colab_type": "text"
      },
      "source": [
        "# Question 2"
      ]
    },
    {
      "cell_type": "code",
      "metadata": {
        "id": "VgZZAR0s5FE3",
        "colab_type": "code",
        "colab": {
          "base_uri": "https://localhost:8080/",
          "height": 68
        },
        "outputId": "d42d51cb-47e5-4f1a-c5c0-04d22c32efa5"
      },
      "source": [
        "# to create an identity matrix in python\n",
        "\n",
        "import numpy as np\n",
        "\n",
        "np.identity(3)\n",
        "# where 3 determines the size of the identity matrix"
      ],
      "execution_count": null,
      "outputs": [
        {
          "output_type": "execute_result",
          "data": {
            "text/plain": [
              "array([[1., 0., 0.],\n",
              "       [0., 1., 0.],\n",
              "       [0., 0., 1.]])"
            ]
          },
          "metadata": {
            "tags": []
          },
          "execution_count": 5
        }
      ]
    },
    {
      "cell_type": "markdown",
      "metadata": {
        "id": "G7mIpEt860oJ",
        "colab_type": "text"
      },
      "source": [
        "# Question 3"
      ]
    },
    {
      "cell_type": "code",
      "metadata": {
        "id": "8iI_9Fhh64YT",
        "colab_type": "code",
        "colab": {
          "base_uri": "https://localhost:8080/",
          "height": 476
        },
        "outputId": "518dcd40-a371-4cea-a712-1628c1c9196c"
      },
      "source": [
        "# import the neccessary libraries\n",
        "\n",
        "import numpy as np\n",
        "import pandas as pd\n",
        "\n",
        "# get the dataset from the website url\n",
        "url = 'https://raw.githubusercontent.com/WalePhenomenon/climate_change/master/fuel_ferc1.csv'\n",
        "\n",
        "# read the data into a variable\n",
        "data = pd.read_csv(url, error_bad_lines = False)\n",
        "\n",
        "# group the data by fuel cost per unit burned\n",
        "fuel_type = pd.DataFrame(data['fuel_type_code_pudl'])\n",
        "#print(fuel_type)\n",
        "fuel_burnt = pd.DataFrame(data['fuel_cost_per_unit_burned'])\n",
        "# print(fuel_burnt)\n",
        "fuel_type['fuel_burnt'] = fuel_burnt\n",
        "print(fuel_type)\n",
        "\n",
        "fuel_type.groupby('fuel_burnt')['fuel_type_code_pudl'].count()"
      ],
      "execution_count": 51,
      "outputs": [
        {
          "output_type": "stream",
          "text": [
            "      fuel_type_code_pudl  fuel_burnt\n",
            "0                    coal       18.59\n",
            "1                    coal       18.58\n",
            "2                    coal       39.72\n",
            "3                    coal       47.21\n",
            "4                     gas        2.77\n",
            "...                   ...         ...\n",
            "29518                 gas        4.78\n",
            "29519                 gas        3.65\n",
            "29520                 gas        4.77\n",
            "29521                coal        3.06\n",
            "29522                 gas        0.00\n",
            "\n",
            "[29523 rows x 2 columns]\n"
          ],
          "name": "stdout"
        },
        {
          "output_type": "execute_result",
          "data": {
            "text/plain": [
              "fuel_burnt\n",
              "-276.080       1\n",
              "-174.670       1\n",
              "-123.310       1\n",
              "-119.040       1\n",
              "-85.760        1\n",
              "              ..\n",
              " 65137.588     1\n",
              " 69785.215     1\n",
              " 80459.000     1\n",
              " 83538.000     1\n",
              " 139358.000    1\n",
              "Name: fuel_type_code_pudl, Length: 19416, dtype: int64"
            ]
          },
          "metadata": {
            "tags": []
          },
          "execution_count": 51
        }
      ]
    },
    {
      "cell_type": "markdown",
      "metadata": {
        "id": "MHXGIsd2-W6d",
        "colab_type": "text"
      },
      "source": [
        "# Question 4"
      ]
    },
    {
      "cell_type": "code",
      "metadata": {
        "id": "SVO1sSCk8g9z",
        "colab_type": "code",
        "colab": {
          "base_uri": "https://localhost:8080/",
          "height": 51
        },
        "outputId": "75a6c214-f30c-4443-f729-0a7d305f1175"
      },
      "source": [
        "\n",
        "# to find the 75th percentile\n",
        "# make the data into numpy array to calculate better\n",
        "arr_data = np.array(data['fuel_mmbtu_per_unit'])\n",
        "datframe_data = pd.DataFrame(arr_data)\n",
        "# finding the 75th percentile\n",
        "percen75 = datframe_data.quantile(.75)\n",
        "\n",
        "# print the result\n",
        "print(round(percen75, 2))\n"
      ],
      "execution_count": null,
      "outputs": [
        {
          "output_type": "stream",
          "text": [
            "0    17.01\n",
            "Name: 0.75, dtype: float64\n"
          ],
          "name": "stdout"
        }
      ]
    },
    {
      "cell_type": "markdown",
      "metadata": {
        "id": "dhE7yEPmVgVs",
        "colab_type": "text"
      },
      "source": [
        "# Question 5"
      ]
    },
    {
      "cell_type": "code",
      "metadata": {
        "id": "4aDcDS72_gsW",
        "colab_type": "code",
        "colab": {
          "base_uri": "https://localhost:8080/",
          "height": 51
        },
        "outputId": "10484648-6a92-4d96-fb1e-175dd782c1dd"
      },
      "source": [
        "from scipy.stats import kurtosis\n",
        "# finding the skewness\n",
        "\n",
        "data_burned = data['fuel_qty_burned']\n",
        "\n",
        "data_skew = data_burned.skew(axis = 0, skipna=True)\n",
        "print(round(data_skew, 2))\n",
        "\n",
        "#finding the  kurtosis\n",
        "\n",
        "data_kurt = data_burned.kurtosis(axis = 0, skipna = None, level = None, numeric_only= None)\n",
        "print(round(data_kurt, 2))\n"
      ],
      "execution_count": null,
      "outputs": [
        {
          "output_type": "stream",
          "text": [
            "15.85\n",
            "651.37\n"
          ],
          "name": "stdout"
        }
      ]
    },
    {
      "cell_type": "markdown",
      "metadata": {
        "id": "uSrAb-CFgGgD",
        "colab_type": "text"
      },
      "source": [
        "# Question 6"
      ]
    },
    {
      "cell_type": "code",
      "metadata": {
        "id": "ZpLMzPTxgJfv",
        "colab_type": "code",
        "colab": {}
      },
      "source": [
        ""
      ],
      "execution_count": null,
      "outputs": []
    },
    {
      "cell_type": "markdown",
      "metadata": {
        "id": "VGlV2SG6WP8U",
        "colab_type": "text"
      },
      "source": [
        "# Qeuestion 7"
      ]
    },
    {
      "cell_type": "code",
      "metadata": {
        "id": "ThPHBJxoWUQM",
        "colab_type": "code",
        "colab": {
          "base_uri": "https://localhost:8080/",
          "height": 221
        },
        "outputId": "27071320-05b3-49a5-b694-8ed8ab4f7c60"
      },
      "source": [
        "\n",
        "pd.DataFrame(data.isnull()).sum()"
      ],
      "execution_count": null,
      "outputs": [
        {
          "output_type": "execute_result",
          "data": {
            "text/plain": [
              "record_id                         0\n",
              "utility_id_ferc1                  0\n",
              "report_year                       0\n",
              "plant_name_ferc1                  0\n",
              "fuel_type_code_pudl               0\n",
              "fuel_unit                       180\n",
              "fuel_qty_burned                   0\n",
              "fuel_mmbtu_per_unit               0\n",
              "fuel_cost_per_unit_burned         0\n",
              "fuel_cost_per_unit_delivered      0\n",
              "fuel_cost_per_mmbtu               0\n",
              "dtype: int64"
            ]
          },
          "metadata": {
            "tags": []
          },
          "execution_count": 34
        }
      ]
    },
    {
      "cell_type": "markdown",
      "metadata": {
        "id": "57kFZJ3Fh5Zu",
        "colab_type": "text"
      },
      "source": [
        "# Question 8"
      ]
    },
    {
      "cell_type": "code",
      "metadata": {
        "id": "k-mrYl_Yh96N",
        "colab_type": "code",
        "colab": {}
      },
      "source": [
        ""
      ],
      "execution_count": 62,
      "outputs": []
    },
    {
      "cell_type": "markdown",
      "metadata": {
        "id": "8vTB08T1h0yQ",
        "colab_type": "text"
      },
      "source": [
        "# Question 9"
      ]
    },
    {
      "cell_type": "code",
      "metadata": {
        "id": "eCGliGWsh3wz",
        "colab_type": "code",
        "colab": {}
      },
      "source": [
        "data.groupby('report_year')['report_year'].count()\n",
        "\n",
        "col1 = pd.Series(data['report_year'])\n",
        "col2 = pd.Series(data['fuel_cost_per_unit_burned'])\n",
        "dataf = pd.DataFrame(col1, col2)\n",
        "# print(dataf)\n",
        "\n",
        "dataf.pct_change(axis = 0)"
      ],
      "execution_count": null,
      "outputs": []
    },
    {
      "cell_type": "markdown",
      "metadata": {
        "id": "WDchRYnJVZZt",
        "colab_type": "text"
      },
      "source": [
        "# Question 10\n"
      ]
    },
    {
      "cell_type": "code",
      "metadata": {
        "id": "dv1E8O0HCSRT",
        "colab_type": "code",
        "colab": {
          "base_uri": "https://localhost:8080/",
          "height": 34
        },
        "outputId": "239a0c70-ba87-4ffa-a06d-2acd42c66998"
      },
      "source": [
        "data_units = pd.Series(data['fuel_cost_per_unit_delivered'])\n",
        "report = pd.Series(data['report_year'])\n",
        "both = pd.DataFrame(data_units, report)\n",
        "\n",
        "sorted(both, key=None, reverse=False)\n"
      ],
      "execution_count": 72,
      "outputs": [
        {
          "output_type": "execute_result",
          "data": {
            "text/plain": [
              "['fuel_cost_per_unit_delivered']"
            ]
          },
          "metadata": {
            "tags": []
          },
          "execution_count": 72
        }
      ]
    },
    {
      "cell_type": "code",
      "metadata": {
        "id": "yjNjx16rE2c1",
        "colab_type": "code",
        "colab": {}
      },
      "source": [
        ""
      ],
      "execution_count": null,
      "outputs": []
    }
  ]
}